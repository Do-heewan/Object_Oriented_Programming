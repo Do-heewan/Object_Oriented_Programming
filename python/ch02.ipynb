{
 "cells": [
  {
   "cell_type": "code",
   "execution_count": 23,
   "metadata": {},
   "outputs": [
    {
     "name": "stdout",
     "output_type": "stream",
     "text": [
      "숫자를 입력하시오.\n",
      "10\n",
      "짝수입니다.\n"
     ]
    }
   ],
   "source": [
    "# exam1_1\n",
    "\n",
    "print(\"숫자를 입력하시오.\")\n",
    "num = int(input())\n",
    "print(num)\n",
    "\n",
    "if num % 2 == 0:\n",
    "    print(\"짝수입니다.\")\n",
    "else:\n",
    "    print(\"홀수입니다.\")"
   ]
  },
  {
   "cell_type": "code",
   "execution_count": 24,
   "metadata": {},
   "outputs": [
    {
     "name": "stdout",
     "output_type": "stream",
     "text": [
      "두 정수를 입력하시오.\n",
      "10\n",
      "20\n",
      "20 이 더 큽니다.\n"
     ]
    }
   ],
   "source": [
    "# exam1_2\n",
    "\n",
    "print(\"두 정수를 입력하시오.\")\n",
    "num1 = int(input())\n",
    "num2 = int(input())\n",
    "print(num1)\n",
    "print(num2)\n",
    "\n",
    "if (num1 > num2):\n",
    "    print(num1, \"이 더 큽니다.\")\n",
    "else:\n",
    "    print(num2, \"이 더 큽니다.\")"
   ]
  },
  {
   "cell_type": "code",
   "execution_count": 28,
   "metadata": {},
   "outputs": [
    {
     "name": "stdout",
     "output_type": "stream",
     "text": [
      "몸무게를 입력하시오. (kg)\n",
      "키를 입력하시오. (m)\n",
      "BMI 지수 : 22.59, 판정결과 : 정상\n"
     ]
    }
   ],
   "source": [
    "# exam1_3\n",
    "\n",
    "print(\"몸무게를 입력하시오. (kg)\")\n",
    "weight = float(input())\n",
    "\n",
    "print(\"키를 입력하시오. (m)\")\n",
    "height = float(input())\n",
    "\n",
    "m_height = height / 100\n",
    "BMI = weight / (m_height * m_height)\n",
    "\n",
    "if (BMI < 19):\n",
    "    print(f\"BMI 지수 : %.2f, 판정결과 : 저체중\" % BMI)\n",
    "elif (BMI < 23):\n",
    "    print(f\"BMI 지수 : %.2f, 판정결과 : 정상\" % BMI)\n",
    "elif (BMI < 29):\n",
    "    print(f\"BMI 지수 : %.2f, 판정결과 : 과체중\" % BMI)\n",
    "else:\n",
    "    print(f\"BMI 지수 : %.2f, 판정결과 : 비만\" % BMI)"
   ]
  },
  {
   "cell_type": "code",
   "execution_count": 33,
   "metadata": {},
   "outputs": [
    {
     "name": "stdout",
     "output_type": "stream",
     "text": [
      "정수 3개를 입력하시오.\n",
      "5 5 5\n",
      "삼각형이 될 수 없습니다.\n"
     ]
    }
   ],
   "source": [
    "# exam1_4\n",
    "\n",
    "print(\"정수 3개를 입력하시오.\")\n",
    "a = int(input())\n",
    "b = int(input())\n",
    "c = int(input())\n",
    "print(a, b, c)\n",
    "\n",
    "if (a*a > b*b + c*c):\n",
    "    print(\"삼각형이 될 수 있습니다.\")\n",
    "elif (b*b > a*a + c*c):\n",
    "    print(\"삼각형이 될 수 있습니다.\")\n",
    "elif (c*c > a*a + b*b):\n",
    "    print(\"삼각형이 될 수 있습니다.\")\n",
    "else:\n",
    "    print(\"삼각형이 될 수 없습니다.\")"
   ]
  },
  {
   "cell_type": "code",
   "execution_count": 5,
   "metadata": {},
   "outputs": [
    {
     "name": "stdout",
     "output_type": "stream",
     "text": [
      "연산식을 입력하시오.\n",
      "5 * 5\n",
      "5 * 5의 결과는 25\n"
     ]
    }
   ],
   "source": [
    "# exam1_5\n",
    "\n",
    "print(\"연산식을 입력하시오.\")\n",
    "op1 = int(input())\n",
    "op = str(input())\n",
    "op2 = int(input())\n",
    "print(op1, op, op2)\n",
    "\n",
    "# Python에는 switch문이 없으므로 if - elif 문으로 대체\n",
    "if (op == \"+\"):\n",
    "    op = \"+\"\n",
    "    result = op1 + op2\n",
    "elif (op == \"-\"):\n",
    "    op = \"-\"\n",
    "    result = op1 - op2\n",
    "elif (op == \"*\"):\n",
    "    op = \"*\"\n",
    "    result = op1 * op2\n",
    "else:\n",
    "    op = \"/\"\n",
    "    result = op1 / op2\n",
    "\n",
    "print(f\"%d %s %d의 결과는 %d\" % (op1, op, op2, result))"
   ]
  },
  {
   "cell_type": "code",
   "execution_count": 4,
   "metadata": {},
   "outputs": [
    {
     "name": "stdout",
     "output_type": "stream",
     "text": [
      "0\n",
      "1\n",
      "2\n",
      "3\n",
      "4\n",
      "5\n",
      "6\n",
      "7\n",
      "8\n",
      "9\n",
      "10\n",
      "sum =  55\n"
     ]
    }
   ],
   "source": [
    "# exam1_6\n",
    "\n",
    "sum = 0\n",
    "\n",
    "for i in range(11):\n",
    "    print(i)\n",
    "    sum += i\n",
    "print(\"sum = \", sum)"
   ]
  },
  {
   "cell_type": "code",
   "execution_count": 7,
   "metadata": {},
   "outputs": [
    {
     "name": "stdout",
     "output_type": "stream",
     "text": [
      "건너뛸 숫자를 입력하시오. (1~10 사이)\n",
      "선택된 숫자 :  5\n",
      "1\n",
      "2\n",
      "3\n",
      "4\n",
      "6\n",
      "7\n",
      "8\n",
      "9\n",
      "10\n"
     ]
    }
   ],
   "source": [
    "# exam1_8\n",
    "\n",
    "print(\"건너뛸 숫자를 입력하시오. (1~10 사이)\")\n",
    "num = int(input())\n",
    "print(\"선택된 숫자 : \", num)\n",
    "\n",
    "for i in range(1, 11):\n",
    "    if num == i:\n",
    "        continue\n",
    "    else:\n",
    "        print(i)"
   ]
  },
  {
   "cell_type": "code",
   "execution_count": 2,
   "metadata": {},
   "outputs": [
    {
     "name": "stdout",
     "output_type": "stream",
     "text": [
      "숫자를 입력하시오.\n",
      "입력한 숫자 : 1\n",
      "숫자를 입력하시오.\n",
      "입력한 숫자 : 3\n",
      "숫자를 입력하시오.\n",
      "입력한 숫자 : 5\n",
      "숫자를 입력하시오.\n",
      "입력한 숫자 : 10\n",
      "프로그램을 종료합니다.\n"
     ]
    }
   ],
   "source": [
    "# exam1_9\n",
    "\n",
    "while (True):\n",
    "    print(\"숫자를 입력하시오.\")\n",
    "    num = int(input())\n",
    "    print(\"입력한 숫자 :\", num)\n",
    "\n",
    "    if num == 10:\n",
    "        print(\"프로그램을 종료합니다.\")\n",
    "        break\n",
    "    else:\n",
    "        continue"
   ]
  },
  {
   "cell_type": "code",
   "execution_count": 16,
   "metadata": {},
   "outputs": [
    {
     "name": "stdout",
     "output_type": "stream",
     "text": [
      "9 X 1 = 9\n",
      "9 X 2 = 18\n",
      "9 X 3 = 27\n",
      "9 X 4 = 36\n",
      "9 X 5 = 45\n",
      "9 X 6 = 54\n",
      "9 X 7 = 63\n",
      "9 X 8 = 72\n",
      "9 X 9 = 81\n",
      "\n",
      "\n",
      "8 X 1 = 8\n",
      "8 X 2 = 16\n",
      "8 X 3 = 24\n",
      "8 X 4 = 32\n",
      "8 X 5 = 40\n",
      "8 X 6 = 48\n",
      "8 X 7 = 56\n",
      "8 X 8 = 64\n",
      "8 X 9 = 72\n",
      "\n",
      "\n",
      "7 X 1 = 7\n",
      "7 X 2 = 14\n",
      "7 X 3 = 21\n",
      "7 X 4 = 28\n",
      "7 X 5 = 35\n",
      "7 X 6 = 42\n",
      "7 X 7 = 49\n",
      "7 X 8 = 56\n",
      "7 X 9 = 63\n",
      "\n",
      "\n",
      "6 X 1 = 6\n",
      "6 X 2 = 12\n",
      "6 X 3 = 18\n",
      "6 X 4 = 24\n",
      "6 X 5 = 30\n",
      "6 X 6 = 36\n",
      "6 X 7 = 42\n",
      "6 X 8 = 48\n",
      "6 X 9 = 54\n",
      "\n",
      "\n",
      "5 X 1 = 5\n",
      "5 X 2 = 10\n",
      "5 X 3 = 15\n",
      "5 X 4 = 20\n",
      "5 X 5 = 25\n",
      "5 X 6 = 30\n",
      "5 X 7 = 35\n",
      "5 X 8 = 40\n",
      "5 X 9 = 45\n",
      "\n",
      "\n",
      "4 X 1 = 4\n",
      "4 X 2 = 8\n",
      "4 X 3 = 12\n",
      "4 X 4 = 16\n",
      "4 X 5 = 20\n",
      "4 X 6 = 24\n",
      "4 X 7 = 28\n",
      "4 X 8 = 32\n",
      "4 X 9 = 36\n",
      "\n",
      "\n",
      "3 X 1 = 3\n",
      "3 X 2 = 6\n",
      "3 X 3 = 9\n",
      "3 X 4 = 12\n",
      "3 X 5 = 15\n",
      "3 X 6 = 18\n",
      "3 X 7 = 21\n",
      "3 X 8 = 24\n",
      "3 X 9 = 27\n",
      "\n",
      "\n",
      "2 X 1 = 2\n",
      "2 X 2 = 4\n",
      "2 X 3 = 6\n",
      "2 X 4 = 8\n",
      "2 X 5 = 10\n",
      "2 X 6 = 12\n",
      "2 X 7 = 14\n",
      "2 X 8 = 16\n",
      "2 X 9 = 18\n",
      "\n",
      "\n",
      "1 X 1 = 1\n",
      "1 X 2 = 2\n",
      "1 X 3 = 3\n",
      "1 X 4 = 4\n",
      "1 X 5 = 5\n",
      "1 X 6 = 6\n",
      "1 X 7 = 7\n",
      "1 X 8 = 8\n",
      "1 X 9 = 9\n",
      "\n",
      "\n"
     ]
    }
   ],
   "source": [
    "# exam1_10\n",
    "\n",
    "for i in range(9, 0, -1):\n",
    "    for j in range(1, 10, 1):\n",
    "        print(i, \"X\", j, \"=\", i*j)\n",
    "    print(\"\\n\")"
   ]
  }
 ],
 "metadata": {
  "kernelspec": {
   "display_name": "base",
   "language": "python",
   "name": "python3"
  },
  "language_info": {
   "codemirror_mode": {
    "name": "ipython",
    "version": 3
   },
   "file_extension": ".py",
   "mimetype": "text/x-python",
   "name": "python",
   "nbconvert_exporter": "python",
   "pygments_lexer": "ipython3",
   "version": "3.11.9"
  }
 },
 "nbformat": 4,
 "nbformat_minor": 2
}
