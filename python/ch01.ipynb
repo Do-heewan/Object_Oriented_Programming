{
 "cells": [
  {
   "cell_type": "code",
   "execution_count": 3,
   "metadata": {},
   "outputs": [
    {
     "name": "stdout",
     "output_type": "stream",
     "text": [
      "홍길동\n",
      " \t홍\n",
      " \t\t길\n",
      " \t\t\t동\n"
     ]
    }
   ],
   "source": [
    "# exam1_1\n",
    "\n",
    "print(\"홍길동\\n \\t홍\\n \\t\\t길\\n \\t\\t\\t동\")"
   ]
  },
  {
   "cell_type": "code",
   "execution_count": 6,
   "metadata": {},
   "outputs": [
    {
     "name": "stdout",
     "output_type": "stream",
     "text": [
      "홍길동\n",
      " 홍\n",
      " 길\n",
      " 동\n"
     ]
    }
   ],
   "source": [
    "# exam1_2\n",
    "\n",
    "print(\"홍길동\\n 홍\\n 길\\n 동\")"
   ]
  },
  {
   "cell_type": "code",
   "execution_count": 9,
   "metadata": {},
   "outputs": [
    {
     "name": "stdout",
     "output_type": "stream",
     "text": [
      "20202105 노희완\n"
     ]
    }
   ],
   "source": [
    "# exam1_3\n",
    "\n",
    "num = 20202105\n",
    "name = \"노희완\"\n",
    "\n",
    "print(num, name)"
   ]
  },
  {
   "cell_type": "code",
   "execution_count": 22,
   "metadata": {},
   "outputs": [
    {
     "name": "stdout",
     "output_type": "stream",
     "text": [
      "3 + 10.123 = 13.123\n",
      "3 - 10.123 = -7.122999999999999\n",
      "3 * 10.123 = 30.369\n",
      "3 / 10.123 = 0.2963548355230663\n"
     ]
    }
   ],
   "source": [
    "# exam1_4\n",
    "\n",
    "a = 3\n",
    "b = 10.123\n",
    "\n",
    "print(a, \"+\", b, \"=\", a+b)\n",
    "print(a, \"-\", b, \"=\", a-b)\n",
    "print(a, \"*\", b, \"=\", a*b)\n",
    "print(a, \"/\", b, \"=\", a/b)"
   ]
  },
  {
   "cell_type": "code",
   "execution_count": 24,
   "metadata": {},
   "outputs": [
    {
     "name": "stdout",
     "output_type": "stream",
     "text": [
      "19300\n"
     ]
    }
   ],
   "source": [
    "# exam2_1\n",
    "\n",
    "a = 200\n",
    "b = 3000\n",
    "c = 4900\n",
    "result = a*1 + b*2 + c*5\n",
    "\n",
    "print(50000 - result)"
   ]
  },
  {
   "cell_type": "code",
   "execution_count": 1,
   "metadata": {},
   "outputs": [
    {
     "name": "stdout",
     "output_type": "stream",
     "text": [
      "두 정수를 입력하시오.\n",
      "10\n",
      "20\n",
      "10 + 20 = 30\n",
      "10 - 20 = -10\n",
      "10 * 20 = 200\n",
      "10 / 20 = 0.5\n"
     ]
    }
   ],
   "source": [
    "# exam2_2\n",
    "\n",
    "print(\"두 정수를 입력하시오.\")\n",
    "num1 = int(input())\n",
    "num2 = int(input())\n",
    "print(num1)\n",
    "print(num2)\n",
    "\n",
    "print(num1, \"+\", num2, \"=\", (num1+num2))\n",
    "print(num1, \"-\", num2, \"=\", (num1-num2))\n",
    "print(num1, \"*\", num2, \"=\", (num1*num2))\n",
    "print(num1, \"/\", num2, \"=\", (num1/num2))\n",
    "\n",
    "# Python에서 Scanner 기능을 하는 input() 함수는 입력받은 모든 변수를 문자열로 저장하기 때문에 원하는 수식 결과가 나오지 않는다."
   ]
  },
  {
   "cell_type": "code",
   "execution_count": 3,
   "metadata": {},
   "outputs": [
    {
     "name": "stdout",
     "output_type": "stream",
     "text": [
      "원화를 입력하시오. (단위 원)\n",
      "1500\n",
      "1500 원은 1.1450381679389312 달러 입니다.\n",
      "1500원은 1.15달러 입니다.\n"
     ]
    }
   ],
   "source": [
    "# exam2_3\n",
    "\n",
    "rate = 1310.0\n",
    "\n",
    "print(\"원화를 입력하시오. (단위 원)\")\n",
    "num = int(input())\n",
    "print(num)\n",
    "result = num / rate\n",
    "\n",
    "# print(num, \"원은\", result, \"달러 입니다.\")\n",
    "print(f\"%d원은 %.2f달러 입니다.\" % (num, result))"
   ]
  },
  {
   "cell_type": "code",
   "execution_count": 4,
   "metadata": {},
   "outputs": [
    {
     "name": "stdout",
     "output_type": "stream",
     "text": [
      "정수 3개를 입력하시오. \n",
      "10 20 30\n",
      "가장 작은 수는 10\n"
     ]
    }
   ],
   "source": [
    "# exam2_4\n",
    "\n",
    "print(\"정수 3개를 입력하시오. \")\n",
    "a = int(input())\n",
    "b = int(input())\n",
    "c = int(input())\n",
    "\n",
    "print(a, b, c)\n",
    "\n",
    "if a < b:\n",
    "    min = a\n",
    "elif b < c:\n",
    "    min = b\n",
    "else:\n",
    "    min = c\n",
    "\n",
    "print(\"가장 작은 수는\", min)"
   ]
  },
  {
   "cell_type": "code",
   "execution_count": 9,
   "metadata": {},
   "outputs": [
    {
     "name": "stdout",
     "output_type": "stream",
     "text": [
      "구의 반지름 : 11\n",
      "구의 부피 : 5575.28\n"
     ]
    }
   ],
   "source": [
    "# exam2_5\n",
    "\n",
    "pi = 3.141592\n",
    "\n",
    "\n",
    "r = int(input())\n",
    "print(\"구의 반지름 :\", r)\n",
    "\n",
    "v = (4 * pi * r * r * r) / 3\n",
    "print(f\"구의 부피 : %.2f\" % v)"
   ]
  }
 ],
 "metadata": {
  "kernelspec": {
   "display_name": "base",
   "language": "python",
   "name": "python3"
  },
  "language_info": {
   "codemirror_mode": {
    "name": "ipython",
    "version": 3
   },
   "file_extension": ".py",
   "mimetype": "text/x-python",
   "name": "python",
   "nbconvert_exporter": "python",
   "pygments_lexer": "ipython3",
   "version": "3.11.9"
  }
 },
 "nbformat": 4,
 "nbformat_minor": 2
}
