{
 "cells": [
  {
   "cell_type": "code",
   "execution_count": 23,
   "metadata": {},
   "outputs": [
    {
     "name": "stdout",
     "output_type": "stream",
     "text": [
      "현재 시간을 입력하시오 (HH 형식, 00 ~ 23) :\n",
      "현재 분을 입력하시오 (mm 형식, 00 ~ 59) :\n",
      "알람이 울리기 까지 1시간 59분 남았습니다.\n"
     ]
    }
   ],
   "source": [
    "print(\"현재 시간을 입력하시오 (HH 형식, 00 ~ 23) :\")\n",
    "h = int(input())\n",
    "\n",
    "print(\"현재 분을 입력하시오 (mm 형식, 00 ~ 59) :\")\n",
    "m = int(input())\n",
    "\n",
    "if (h < 24 and m < 60):\n",
    "    if (h > 9):\n",
    "        h = h - 9\n",
    "        print(f\"알림이 울린 후 %d시간 %d분 지났습니다.\" % (h, m))\n",
    "    elif (h < 9):\n",
    "        if (m == 0):\n",
    "            h = 9 - h\n",
    "            print(f\"알람이 울리기 까지 %d시간 %d분 남았습니다.\" % (h, m))\n",
    "        else:\n",
    "            h = 9 - h - 1\n",
    "            m = 60 - m\n",
    "            print(f\"알람이 울리기 까지 %d시간 %d분 남았습니다.\" % (h, m))\n",
    "    elif (h == 9):\n",
    "        if (m == 0):\n",
    "            print(\"알람이 울립니다. 따르릉따르릉\")\n",
    "        else:\n",
    "            print(f\"알람이 울린 후 %d분 지났습니다\" % m)\n",
    "else:\n",
    "    print(\"다시 입력해주세요.\")\n",
    "    "
   ]
  }
 ],
 "metadata": {
  "kernelspec": {
   "display_name": "base",
   "language": "python",
   "name": "python3"
  },
  "language_info": {
   "codemirror_mode": {
    "name": "ipython",
    "version": 3
   },
   "file_extension": ".py",
   "mimetype": "text/x-python",
   "name": "python",
   "nbconvert_exporter": "python",
   "pygments_lexer": "ipython3",
   "version": "3.11.9"
  }
 },
 "nbformat": 4,
 "nbformat_minor": 2
}
